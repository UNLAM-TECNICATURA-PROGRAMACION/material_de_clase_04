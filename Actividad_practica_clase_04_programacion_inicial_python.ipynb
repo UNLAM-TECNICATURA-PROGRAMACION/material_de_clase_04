{
  "cells": [
    {
      "cell_type": "markdown",
      "metadata": {
        "id": "view-in-github",
        "colab_type": "text"
      },
      "source": [
        "<a href=\"https://colab.research.google.com/github/UNLAM-TECNICATURA-PROGRAMACION/material_de_clase_04/blob/main/Actividad_practica_clase_04_programacion_inicial_python.ipynb\" target=\"_parent\"><img src=\"https://colab.research.google.com/assets/colab-badge.svg\" alt=\"Open In Colab\"/></a>"
      ]
    },
    {
      "cell_type": "markdown",
      "id": "f53f3aec",
      "metadata": {
        "id": "f53f3aec"
      },
      "source": [
        "\n",
        "# 🎮 Funciones en Python\n",
        "\n",
        "¡Funciones!\n",
        "En este cuaderno vas a aprender paso a paso cómo crear funciones en Python, algo esencial para programar habilidades, ataques, movimientos y mucho más en videojuegos.\n",
        "\n",
        "\n",
        "---\n",
        "\n",
        "## 📚 Índice\n",
        "- [¿Qué es una función?](#qué-es-una-función)\n",
        "- [Cómo definir funciones en Python](#cómo-definir-funciones-en-python)\n",
        "- [Parámetros y argumentos](#parámetros-y-argumentos)\n",
        "- [El retorno de valores](#el-retorno-de-valores)\n",
        "- [Funciones con condicionales](#funciones-con-condicionales)\n",
        "- [Funciones con bucles](#funciones-con-bucles)\n",
        "- [Funciones Lambda](#funciones-lambda)\n",
        "- [🎯 Práctica Final](#práctica-final)\n",
        "\n",
        "---\n"
      ]
    },
    {
      "cell_type": "markdown",
      "id": "66336e89",
      "metadata": {
        "id": "66336e89"
      },
      "source": [
        "\n",
        "## ¿Qué es una función?\n",
        "\n",
        "Una **función** es un bloque de código que se puede reutilizar. Agrupa instrucciones para realizar una tarea específica.\n",
        "\n",
        "**¿Por qué usar funciones?**\n",
        "- 🔁 Reutilizar código.\n",
        "- 🧹 Hacer el programa más claro y ordenado.\n",
        "- 🧩 Dividir problemas grandes en partes pequeñas.\n",
        "\n",
        "> **Tip**: ¡En videojuegos usamos funciones para atacar, saltar, lanzar hechizos, recolectar objetos y mucho más!\n"
      ]
    },
    {
      "cell_type": "markdown",
      "id": "6f21e948",
      "metadata": {
        "id": "6f21e948"
      },
      "source": [
        "\n",
        "### ✏️ Ejercicios 1\n",
        "1. Explica con tus palabras qué ventajas tiene usar funciones.\n",
        "2. Piensa en una acción de un videojuego que podría representarse como una función.\n"
      ]
    },
    {
      "cell_type": "markdown",
      "id": "cbb3b770",
      "metadata": {
        "id": "cbb3b770"
      },
      "source": [
        "\n",
        "## Cómo definir funciones en Python\n",
        "\n",
        "Para crear una función usamos la palabra reservada `def`:\n",
        "\n",
        "```python\n",
        "def saludar():\n",
        "    print(\"¡Hola, jugador!\")\n",
        "```\n",
        "\n",
        "Para ejecutarla, simplemente la llamamos:\n",
        "\n",
        "```python\n",
        "saludar()\n",
        "```\n"
      ]
    },
    {
      "cell_type": "markdown",
      "id": "d192dfd1",
      "metadata": {
        "id": "d192dfd1"
      },
      "source": [
        "\n",
        "### ✏️ Ejercicios 2\n",
        "- Crea una función que imprima tu nombre de jugador.\n",
        "- Crea una función llamada `inicio_partida` que imprima \"¡La aventura comienza!\" y luego ejecútala.\n"
      ]
    },
    {
      "cell_type": "markdown",
      "id": "51cb3aa4",
      "metadata": {
        "id": "51cb3aa4"
      },
      "source": [
        "\n",
        "## Parámetros y argumentos\n",
        "\n",
        "Las funciones pueden recibir datos para trabajar. A los datos que reciben se los llama **parámetros**.\n",
        "\n",
        "```python\n",
        "def saludar(nombre):\n",
        "    print(f\"¡Hola, {nombre}!\")\n",
        "```\n",
        "\n",
        "Cuando llamamos a la función le pasamos un **argumento**:\n",
        "\n",
        "```python\n",
        "saludar(\"Pixel\")\n",
        "```\n"
      ]
    },
    {
      "cell_type": "markdown",
      "id": "8dba5ea9",
      "metadata": {
        "id": "8dba5ea9"
      },
      "source": [
        "\n",
        "### ✏️ Ejercicios 3\n",
        "- Crea una función `bienvenida` que reciba el nombre de un personaje y muestre un mensaje de saludo.\n",
        "- Crea una función `mostrar_nivel` que reciba el nombre del jugador y su nivel, y muestre: \"Jugador: Pixel | Nivel: 5\".\n"
      ]
    },
    {
      "cell_type": "markdown",
      "id": "3fb6f944",
      "metadata": {
        "id": "3fb6f944"
      },
      "source": [
        "\n",
        "## El retorno de valores\n",
        "\n",
        "Las funciones pueden **devolver un valor** usando `return`:\n",
        "\n",
        "```python\n",
        "def obtener_puntos():\n",
        "    return 150\n",
        "```\n",
        "\n",
        "Podemos guardar ese valor en una variable:\n",
        "\n",
        "```python\n",
        "puntos = obtener_puntos()\n",
        "print(puntos)\n",
        "```\n"
      ]
    },
    {
      "cell_type": "markdown",
      "id": "83524694",
      "metadata": {
        "id": "83524694"
      },
      "source": [
        "\n",
        "### ✏️ Ejercicios 4\n",
        "- Escribe una función `calcular_experiencia` que retorne 100 puntos.\n",
        "- Crea una función `potenciador` que reciba un poder base y devuelva el poder aumentado en un 20%.\n"
      ]
    },
    {
      "cell_type": "markdown",
      "id": "02964320",
      "metadata": {
        "id": "02964320"
      },
      "source": [
        "\n",
        "## Funciones con condicionales\n",
        "\n",
        "Podemos usar condicionales dentro de funciones para tomar decisiones:\n",
        "\n",
        "```python\n",
        "def evaluar_salud(vida):\n",
        "    if vida <= 0:\n",
        "        print(\"¡Has sido derrotado!\")\n",
        "    else:\n",
        "        print(\"¡Sigues luchando!\")\n",
        "```\n"
      ]
    },
    {
      "cell_type": "markdown",
      "id": "ac1e20d6",
      "metadata": {
        "id": "ac1e20d6"
      },
      "source": [
        "\n",
        "### ✏️ Ejercicio 5\n",
        "- Crea una función `nivel_personaje` que reciba la cantidad de puntos de un jugador y muestre si es \"Novato\" (menos de 100) o \"Experto\" (100 o más).\n"
      ]
    },
    {
      "cell_type": "markdown",
      "id": "7fe705db",
      "metadata": {
        "id": "7fe705db"
      },
      "source": [
        "\n",
        "## Funciones con bucles\n",
        "\n",
        "Las funciones pueden usar bucles para repetir acciones:\n",
        "\n",
        "```python\n",
        "def cuenta_regresiva():\n",
        "    for i in range(5, 0, -1):\n",
        "        print(i)\n",
        "    print(\"¡Comienza la partida!\")\n",
        "```\n"
      ]
    },
    {
      "cell_type": "markdown",
      "id": "85f77e8b",
      "metadata": {
        "id": "85f77e8b"
      },
      "source": [
        "\n",
        "### ✏️ Ejercicios 6\n",
        "- Crea una función `cuenta_atras` que imprima del 3 al 1 y luego diga \"¡GO!\".\n",
        "- Crea una función `mostrar_inventario` que reciba una lista de objetos y los imprima uno por uno.\n"
      ]
    },
    {
      "cell_type": "markdown",
      "id": "276ff280",
      "metadata": {
        "id": "276ff280"
      },
      "source": [
        "\n",
        "## Funciones Lambda\n",
        "\n",
        "Una función **lambda** es una forma rápida de escribir funciones pequeñas en una sola línea.\n",
        "\n",
        "```python\n",
        "sumar = lambda x, y: x + y\n",
        "print(sumar(2, 3))  # Resultado: 5\n",
        "```\n",
        "\n",
        "> Úsalas para tareas muy simples.\n"
      ]
    },
    {
      "cell_type": "markdown",
      "id": "2d9faf97",
      "metadata": {
        "id": "2d9faf97"
      },
      "source": [
        "\n",
        "### ✏️ Ejercicios 7\n",
        "- Crea una función lambda que duplique un número.\n",
        "- Crea una función lambda que reciba un daño base y le sume 10 puntos extra.\n"
      ]
    },
    {
      "cell_type": "markdown",
      "id": "e8b68a8a",
      "metadata": {
        "id": "e8b68a8a"
      },
      "source": [
        "\n",
        "# 🎯 Práctica Final\n",
        "\n",
        "**Historia:**  \n",
        "Nuestro héroe Pixel, un joven mago aprendiz, necesita crear tres hechizos para completar su primera misión.\n",
        "\n",
        "**Objetivo:** Crear funciones que representen los hechizos.\n",
        "\n",
        "### ✨ Desafíos\n",
        "1. Crea una función `curar` que reciba la vida actual y devuelva la vida +50.\n",
        "2. Crea una función `atacar` que reciba el daño y devuelva el daño aumentado en un 30%.\n",
        "3. Usa una función lambda llamada `hechizo_rapido` que multiplique el daño por 2.\n",
        "\n",
        "¡Buena suerte! 🚀\n",
        "\n",
        "Haremos las revisiones en clase."
      ]
    }
  ],
  "metadata": {
    "colab": {
      "provenance": [],
      "include_colab_link": true
    }
  },
  "nbformat": 4,
  "nbformat_minor": 5
}